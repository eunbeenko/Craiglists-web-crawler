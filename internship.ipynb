{
 "cells": [
  {
   "cell_type": "code",
   "execution_count": 39,
   "metadata": {},
   "outputs": [],
   "source": [
    "import bs4\n",
    "import pandas as pd\n",
    "from bs4 import BeautifulSoup\n",
    "from requests import get"
   ]
  },
  {
   "cell_type": "code",
   "execution_count": 85,
   "metadata": {},
   "outputs": [
    {
     "name": "stdout",
     "output_type": "stream",
     "text": [
      "1120\n"
     ]
    }
   ],
   "source": [
    "title = []\n",
    "price = []\n",
    "pages = [\"\",\"?s=120\",\"?s=240\",\"?s=360\",\"?s=480\",\"?s=600\",\"?s=720\",\"?s=840\",\"?s=960\",\"?s=1080\"]\n",
    "\n",
    "for x in pages:\n",
    "    url = 'https://newyork.craigslist.org/search/bka' + x\n",
    "    response = get(url)\n",
    "    html_soup = BeautifulSoup(response.text, 'html.parser')\n",
    "    type(html_soup)\n",
    "    books = html_soup.find_all('li', class_ = 'result-row')\n",
    "    # Lists to store the scraped data in\n",
    "    \n",
    "    # Extract data from individual books\n",
    "    for every_book in books:\n",
    "        # The title:\n",
    "        name = every_book.p.a.text\n",
    "        title.append(name)\n",
    "        # The price:\n",
    "        prices = every_book.p.find('span',class_='result-price').text\n",
    "        price.append(prices)\n",
    "        test_df = pd.DataFrame({'title': title,\n",
    "                       'price':price})\n",
    "test_df"
   ]
  },
  {
   "cell_type": "code",
   "execution_count": 88,
   "metadata": {},
   "outputs": [],
   "source": [
    "data=test_df[0:1000]"
   ]
  },
  {
   "cell_type": "code",
   "execution_count": 148,
   "metadata": {},
   "outputs": [
    {
     "data": {
      "text/html": [
       "<div>\n",
       "<style scoped>\n",
       "    .dataframe tbody tr th:only-of-type {\n",
       "        vertical-align: middle;\n",
       "    }\n",
       "\n",
       "    .dataframe tbody tr th {\n",
       "        vertical-align: top;\n",
       "    }\n",
       "\n",
       "    .dataframe thead th {\n",
       "        text-align: right;\n",
       "    }\n",
       "</style>\n",
       "<table border=\"1\" class=\"dataframe\">\n",
       "  <thead>\n",
       "    <tr style=\"text-align: right;\">\n",
       "      <th></th>\n",
       "      <th>title</th>\n",
       "      <th>price</th>\n",
       "    </tr>\n",
       "  </thead>\n",
       "  <tbody>\n",
       "    <tr>\n",
       "      <th>0</th>\n",
       "      <td>Naruto Books</td>\n",
       "      <td>$60</td>\n",
       "    </tr>\n",
       "    <tr>\n",
       "      <th>1</th>\n",
       "      <td>NYS Theater Program 1964 Lincoln Center</td>\n",
       "      <td>$7</td>\n",
       "    </tr>\n",
       "    <tr>\n",
       "      <th>2</th>\n",
       "      <td>American Photographer Magazine - April 1982 - ...</td>\n",
       "      <td>$3</td>\n",
       "    </tr>\n",
       "    <tr>\n",
       "      <th>3</th>\n",
       "      <td>Easton Press Leather Book - Of Human Bondage</td>\n",
       "      <td>$40</td>\n",
       "    </tr>\n",
       "    <tr>\n",
       "      <th>4</th>\n",
       "      <td>Easton Press Leather Book - Brideshead Revisited</td>\n",
       "      <td>$40</td>\n",
       "    </tr>\n",
       "    <tr>\n",
       "      <th>5</th>\n",
       "      <td>National Geographic Magazines</td>\n",
       "      <td>$40</td>\n",
       "    </tr>\n",
       "  </tbody>\n",
       "</table>\n",
       "</div>"
      ],
      "text/plain": [
       "                                               title price\n",
       "0                                       Naruto Books   $60\n",
       "1            NYS Theater Program 1964 Lincoln Center    $7\n",
       "2  American Photographer Magazine - April 1982 - ...    $3\n",
       "3       Easton Press Leather Book - Of Human Bondage   $40\n",
       "4   Easton Press Leather Book - Brideshead Revisited   $40\n",
       "5                      National Geographic Magazines   $40"
      ]
     },
     "execution_count": 148,
     "metadata": {},
     "output_type": "execute_result"
    }
   ],
   "source": [
    "data.loc[0:5,]"
   ]
  },
  {
   "cell_type": "code",
   "execution_count": 146,
   "metadata": {},
   "outputs": [
    {
     "data": {
      "text/plain": [
       "0                                         Naruto Books\n",
       "1              NYS Theater Program 1964 Lincoln Center\n",
       "2    American Photographer Magazine - April 1982 - ...\n",
       "3         Easton Press Leather Book - Of Human Bondage\n",
       "4     Easton Press Leather Book - Brideshead Revisited\n",
       "5                        National Geographic Magazines\n",
       "Name: title, dtype: object"
      ]
     },
     "execution_count": 146,
     "metadata": {},
     "output_type": "execute_result"
    }
   ],
   "source": [
    "data.loc[0:5,\"title\"]"
   ]
  },
  {
   "cell_type": "code",
   "execution_count": 185,
   "metadata": {},
   "outputs": [
    {
     "name": "stdout",
     "output_type": "stream",
     "text": [
      "Search name of the title: NYS\n",
      "                                                   0\n",
      "0                                       title pri...\n",
      "1                  title price\n",
      "393  New NYSTCE    $0\n"
     ]
    }
   ],
   "source": [
    "result = input(\"Search name of the title: \")\n",
    "y = [] \n",
    "for i in data[\"title\"]:\n",
    "    if result in i:\n",
    "        x = data[\"title\"] == i\n",
    "        y.append(data[x])\n",
    "if len(y) > 1:\n",
    "    dataframe = pd.DataFrame(data=y)\n",
    "    print(dataframe)\n",
    "else:\n",
    "    print(\"Books not found\")"
   ]
  },
  {
   "cell_type": "code",
   "execution_count": null,
   "metadata": {},
   "outputs": [],
   "source": [
    "result = input(\"Search name of the title: \")\n",
    "y = [] \n",
    "for i in data[\"title\"]:\n",
    "    if result in i:\n",
    "        x = data[\"title\"] == i\n",
    "        y.append(data[x])\n",
    "if len(y) > 1:\n",
    "    dataframe = pd.DataFrame(data=y)\n",
    "    print(dataframe)\n",
    "else:\n",
    "    print(\"Books not found\")"
   ]
  },
  {
   "cell_type": "code",
   "execution_count": 100,
   "metadata": {},
   "outputs": [
    {
     "ename": "SyntaxError",
     "evalue": "invalid syntax (<ipython-input-100-6280345fecd4>, line 1)",
     "output_type": "error",
     "traceback": [
      "\u001b[0;36m  File \u001b[0;32m\"<ipython-input-100-6280345fecd4>\"\u001b[0;36m, line \u001b[0;32m1\u001b[0m\n\u001b[0;31m    page_num=data.loc[(0:120,120:240,240:360,360:480,480:600,600:720,720:840,840:960,960:1080),\"title\"]\u001b[0m\n\u001b[0m                        ^\u001b[0m\n\u001b[0;31mSyntaxError\u001b[0m\u001b[0;31m:\u001b[0m invalid syntax\n"
     ]
    }
   ],
   "source": [
    "page_num=data.loc[(0:120,120:240,240:360,360:480,480:600,600:720,720:840,840:960,960:1080),\"title\"]"
   ]
  },
  {
   "cell_type": "code",
   "execution_count": 103,
   "metadata": {},
   "outputs": [
    {
     "name": "stdout",
     "output_type": "stream",
     "text": [
      "\n",
      "The following command must be run outside of the IPython shell:\n",
      "\n",
      "    $ pip install Django==2.1.7\n",
      "\n",
      "The Python package manager (pip) can only be used from outside of IPython.\n",
      "Please reissue the `pip` command in a separate terminal or command prompt.\n",
      "\n",
      "See the Python documentation for more information on how to install packages:\n",
      "\n",
      "    https://docs.python.org/3/installing/\n"
     ]
    }
   ],
   "source": [
    "pip install Django==2.1.7"
   ]
  },
  {
   "cell_type": "code",
   "execution_count": 125,
   "metadata": {},
   "outputs": [
    {
     "name": "stdout",
     "output_type": "stream",
     "text": [
      "Search name of the title: aaaaaaaaaaaaaaaaaa\n",
      "Books not found\n"
     ]
    }
   ],
   "source": [
    "result = input(\"Search name of the title: \")\n",
    "for i in data[\"title\"]:\n",
    "    if  result in i:\n",
    "        x = data[\"title\"] == i\n",
    "        print(data[x])\n",
    "    else:\n",
    "        break\n",
    "print(\"Books not found\")"
   ]
  },
  {
   "cell_type": "code",
   "execution_count": 117,
   "metadata": {},
   "outputs": [
    {
     "name": "stdout",
     "output_type": "stream",
     "text": [
      "                                     title price\n",
      "1  NYS Theater Program 1964 Lincoln Center    $7\n"
     ]
    }
   ],
   "source": []
  },
  {
   "cell_type": "code",
   "execution_count": null,
   "metadata": {},
   "outputs": [],
   "source": []
  }
 ],
 "metadata": {
  "kernelspec": {
   "display_name": "Python 3",
   "language": "python",
   "name": "python3"
  },
  "language_info": {
   "codemirror_mode": {
    "name": "ipython",
    "version": 3
   },
   "file_extension": ".py",
   "mimetype": "text/x-python",
   "name": "python",
   "nbconvert_exporter": "python",
   "pygments_lexer": "ipython3",
   "version": "3.7.1"
  }
 },
 "nbformat": 4,
 "nbformat_minor": 2
}
