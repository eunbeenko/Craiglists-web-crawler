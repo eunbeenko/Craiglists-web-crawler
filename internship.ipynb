{
 "cells": [
  {
   "cell_type": "code",
   "execution_count": 33,
   "metadata": {},
   "outputs": [],
   "source": [
    "import bs4\n",
    "import pandas as pd\n",
    "from bs4 import BeautifulSoup\n",
    "from requests import get\n",
    "import numpy as np"
   ]
  },
  {
   "cell_type": "code",
   "execution_count": 41,
   "metadata": {},
   "outputs": [],
   "source": [
    "def get_data():\n",
    "    title = []\n",
    "    price = []\n",
    "    pages = [\"\",\"?s=120\",\"?s=240\",\"?s=360\",\"?s=480\",\"?s=600\",\"?s=720\",\"?s=840\",\"?s=960\",\"?s=1080\"]\n",
    "\n",
    "    ## iterate through the pages to collect desired dataset\n",
    "    for x in pages:\n",
    "        url = 'https://newyork.craigslist.org/search/bka' + x\n",
    "        response = get(url)\n",
    "        html_soup = BeautifulSoup(response.text, 'html.parser')\n",
    "        type(html_soup)\n",
    "        books = html_soup.find_all('li', class_ = 'result-row')\n",
    "    \n",
    "        ## extract all the data from books\n",
    "        for every_book in books:\n",
    "            ## collect title of the book:\n",
    "            name = every_book.p.a.text\n",
    "            title.append(name)\n",
    "            title = title[0:1000]\n",
    "            ## collect price of the book:\n",
    "            prices = every_book.p.find('span',class_='result-price').text\n",
    "            price.append(prices)\n",
    "            price = price[0:1000]\n",
    "            \n",
    "            data = pd.DataFrame({'title': title,\n",
    "                                    'price':price})\n",
    "            \n",
    "    # take the first 1000 rows since data exceeds 1000 rows\n",
    "    \n",
    "    return data"
   ]
  },
  {
   "cell_type": "code",
   "execution_count": 42,
   "metadata": {},
   "outputs": [],
   "source": [
    "Data=get_data()"
   ]
  },
  {
   "cell_type": "code",
   "execution_count": 43,
   "metadata": {},
   "outputs": [
    {
     "data": {
      "text/plain": [
       "1000"
      ]
     },
     "execution_count": 43,
     "metadata": {},
     "output_type": "execute_result"
    }
   ],
   "source": [
    "len(Data)"
   ]
  },
  {
   "cell_type": "code",
   "execution_count": 44,
   "metadata": {},
   "outputs": [
    {
     "data": {
      "text/html": [
       "<div>\n",
       "<style scoped>\n",
       "    .dataframe tbody tr th:only-of-type {\n",
       "        vertical-align: middle;\n",
       "    }\n",
       "\n",
       "    .dataframe tbody tr th {\n",
       "        vertical-align: top;\n",
       "    }\n",
       "\n",
       "    .dataframe thead th {\n",
       "        text-align: right;\n",
       "    }\n",
       "</style>\n",
       "<table border=\"1\" class=\"dataframe\">\n",
       "  <thead>\n",
       "    <tr style=\"text-align: right;\">\n",
       "      <th></th>\n",
       "      <th>title</th>\n",
       "      <th>price</th>\n",
       "    </tr>\n",
       "  </thead>\n",
       "  <tbody>\n",
       "    <tr>\n",
       "      <th>0</th>\n",
       "      <td>IMPRESSIONISM Chartwell Books inc, printed in ...</td>\n",
       "      <td>$50</td>\n",
       "    </tr>\n",
       "    <tr>\n",
       "      <th>1</th>\n",
       "      <td>The Reckoning by John Grisham</td>\n",
       "      <td>$10</td>\n",
       "    </tr>\n",
       "    <tr>\n",
       "      <th>2</th>\n",
       "      <td>HENRI MATISSE: A RETROSPECTIVE---TOTALLY UNUSE...</td>\n",
       "      <td>$25</td>\n",
       "    </tr>\n",
       "    <tr>\n",
       "      <th>3</th>\n",
       "      <td>Religious Books (8 books for $10)</td>\n",
       "      <td>$10</td>\n",
       "    </tr>\n",
       "    <tr>\n",
       "      <th>4</th>\n",
       "      <td>Books Marc L Abbott</td>\n",
       "      <td>$15</td>\n",
       "    </tr>\n",
       "    <tr>\n",
       "      <th>5</th>\n",
       "      <td>David Coverdale &amp; Whitesnake 1987 - 1988 World...</td>\n",
       "      <td>$10</td>\n",
       "    </tr>\n",
       "  </tbody>\n",
       "</table>\n",
       "</div>"
      ],
      "text/plain": [
       "                                               title price\n",
       "0  IMPRESSIONISM Chartwell Books inc, printed in ...   $50\n",
       "1                      The Reckoning by John Grisham   $10\n",
       "2  HENRI MATISSE: A RETROSPECTIVE---TOTALLY UNUSE...   $25\n",
       "3                  Religious Books (8 books for $10)   $10\n",
       "4                                Books Marc L Abbott   $15\n",
       "5  David Coverdale & Whitesnake 1987 - 1988 World...   $10"
      ]
     },
     "execution_count": 44,
     "metadata": {},
     "output_type": "execute_result"
    }
   ],
   "source": [
    "Data.loc[0:5]"
   ]
  },
  {
   "cell_type": "code",
   "execution_count": 38,
   "metadata": {},
   "outputs": [
    {
     "data": {
      "text/plain": [
       "0    Vintage 1957 Ayn Rand “Atlas Shrugged”. 1st ed...\n",
       "1    Vintage 1957 Ayn Rand “Atlas Shrugged”. 1st ed...\n",
       "2           There’s A Wocket in My Pocket by Dr. Seuss\n",
       "3                               James Dean Collector's\n",
       "4                                       SAT PREP BOOKS\n",
       "5                                       DC COMIC BOOKS\n",
       "Name: title, dtype: object"
      ]
     },
     "execution_count": 38,
     "metadata": {},
     "output_type": "execute_result"
    }
   ],
   "source": [
    "Data.loc[0:5,\"title\"]"
   ]
  },
  {
   "cell_type": "code",
   "execution_count": 21,
   "metadata": {},
   "outputs": [],
   "source": [
    "## search books by title (case sensitive)\n",
    "def search_by_title():\n",
    "    TEST = input(\"Search name of the title: \")\n",
    "    title = np.column_stack([Data[col].str.contains(TEST) for col in ['title']])\n",
    "    return print(Data.loc[title.any(axis=1)])"
   ]
  },
  {
   "cell_type": "code",
   "execution_count": 23,
   "metadata": {},
   "outputs": [],
   "source": [
    "def search_by_title():\n",
    "    TEST = input(\"Search name of the title: \")\n",
    "    title = np.column_stack([Data[col].str.contains(TEST.lower()) for col in ['title']])\n",
    "    return print(Data.loc[title.any(axis=1)])"
   ]
  },
  {
   "cell_type": "code",
   "execution_count": 25,
   "metadata": {},
   "outputs": [
    {
     "name": "stdout",
     "output_type": "stream",
     "text": [
      "Search name of the title: Modern\n",
      "Empty DataFrame\n",
      "Columns: [title, price]\n",
      "Index: []\n"
     ]
    }
   ],
   "source": [
    "search_by_title()"
   ]
  },
  {
   "cell_type": "code",
   "execution_count": null,
   "metadata": {},
   "outputs": [],
   "source": [
    "TEST = input(\"Search name of the title: \")\n",
    "title = Data.loc[Data['title']= str.contains(TEST)]\n",
    "print(title)"
   ]
  },
  {
   "cell_type": "code",
   "execution_count": 17,
   "metadata": {},
   "outputs": [
    {
     "name": "stdout",
     "output_type": "stream",
     "text": [
      "Search name of the title: mm\n",
      "                                                 title price\n",
      "80    English Composition and Grammar: Complete Course  $100\n",
      "219  The Mammoth Book of Historical and More Whodun...    $9\n",
      "328  Effective Organisational Communication: Perspe...   $30\n",
      "334  Modernist Communities across Cultures and Medi...   $50\n",
      "422                      Programming and finance books   $40\n",
      "636  Assorted Great Programming/Web Development Boo...    $5\n",
      "659             Computer and Programming Related Books    $0\n",
      "735                     Computer Dummie Books for Sale    $0\n",
      "746  Mens european fashion magazine library for sal...  $360\n",
      "752   L'uomo Vogue Homme mens fashion magazine Library  $480\n",
      "763  Robert's Rules for Dummies - Parliamentary Pro...    $5\n",
      "822   English Composition and Grammar: Complete Course  $100\n",
      "934   English Composition and Grammar: Complete Course  $100\n"
     ]
    }
   ],
   "source": [
    "search_by_title()"
   ]
  },
  {
   "cell_type": "code",
   "execution_count": 203,
   "metadata": {},
   "outputs": [],
   "source": [
    "## search books by price (with $ sign)\n",
    "def search_by_price():\n",
    "    TEST = input(\"Search price of the book: \")\n",
    "    price = Data.loc[Data['price']==TEST]\n",
    "    return price"
   ]
  },
  {
   "cell_type": "code",
   "execution_count": 204,
   "metadata": {},
   "outputs": [
    {
     "name": "stdout",
     "output_type": "stream",
     "text": [
      "Search price of the book: $4\n",
      "                                                 title price\n",
      "28               New-adventure romance novel On A Whim    $4\n",
      "63                        100 Things to Ponder (ebook)    $4\n",
      "216                   Quick and Easy Investing E-Guide    $4\n",
      "217                   Quick and Easy Investing E-Guide    $4\n",
      "219                   Quick and Easy Investing E-Guide    $4\n",
      "270                    GHOST STORIES of NEW YORK STATE    $4\n",
      "302                         Art History Books for Sale    $4\n",
      "474                       The Tibetan Book of the Dead    $4\n",
      "563  John Kovalic's Dork Tower: Living La Vida Dork...    $4\n",
      "761                            Broadway Show Playbills    $4\n"
     ]
    }
   ],
   "source": [
    "print(search_by_price())"
   ]
  },
  {
   "cell_type": "code",
   "execution_count": null,
   "metadata": {},
   "outputs": [],
   "source": []
  },
  {
   "cell_type": "code",
   "execution_count": null,
   "metadata": {},
   "outputs": [],
   "source": []
  },
  {
   "cell_type": "code",
   "execution_count": null,
   "metadata": {},
   "outputs": [],
   "source": []
  },
  {
   "cell_type": "code",
   "execution_count": null,
   "metadata": {},
   "outputs": [],
   "source": []
  },
  {
   "cell_type": "code",
   "execution_count": null,
   "metadata": {},
   "outputs": [],
   "source": []
  }
 ],
 "metadata": {
  "kernelspec": {
   "display_name": "Python 3",
   "language": "python",
   "name": "python3"
  },
  "language_info": {
   "codemirror_mode": {
    "name": "ipython",
    "version": 3
   },
   "file_extension": ".py",
   "mimetype": "text/x-python",
   "name": "python",
   "nbconvert_exporter": "python",
   "pygments_lexer": "ipython3",
   "version": "3.7.1"
  }
 },
 "nbformat": 4,
 "nbformat_minor": 2
}
