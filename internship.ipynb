{
 "cells": [
  {
   "cell_type": "code",
   "execution_count": 3,
   "metadata": {},
   "outputs": [],
   "source": [
    "import bs4\n",
    "import pandas as pd\n",
    "from bs4 import BeautifulSoup\n",
    "from requests import get\n",
    "import numpy as np"
   ]
  },
  {
   "cell_type": "code",
   "execution_count": 4,
   "metadata": {},
   "outputs": [],
   "source": [
    "def get_data():\n",
    "    title = []\n",
    "    price = []\n",
    "    pages = [\"\",\"?s=120\",\"?s=240\",\"?s=360\",\"?s=480\",\"?s=600\",\"?s=720\",\"?s=840\",\"?s=960\",\"?s=1080\"]\n",
    "\n",
    "    ## iterate through the pages to collect desired dataset\n",
    "    for x in pages:\n",
    "        url = 'https://newyork.craigslist.org/search/bka' + x\n",
    "        response = get(url)\n",
    "        html_soup = BeautifulSoup(response.text, 'html.parser')\n",
    "        type(html_soup)\n",
    "        books = html_soup.find_all('li', class_ = 'result-row')\n",
    "    \n",
    "        ## extract all the data from books\n",
    "        for every_book in books:\n",
    "            ## collect title of the book:\n",
    "            name = every_book.p.a.text\n",
    "            title.append(name)\n",
    "            ## collect price of the book:\n",
    "            prices = every_book.p.find('span',class_='result-price').text\n",
    "            price.append(prices)\n",
    "            test_df = pd.DataFrame({'title': title,\n",
    "                                    'price':price})\n",
    "            \n",
    "    # take the first 1000 rows since data exceeds 1000 rows\n",
    "    data = test_df[0:1000]\n",
    "    return data"
   ]
  },
  {
   "cell_type": "code",
   "execution_count": 7,
   "metadata": {},
   "outputs": [],
   "source": [
    "Data=get_data()"
   ]
  },
  {
   "cell_type": "code",
   "execution_count": 8,
   "metadata": {},
   "outputs": [
    {
     "data": {
      "text/plain": [
       "1000"
      ]
     },
     "execution_count": 8,
     "metadata": {},
     "output_type": "execute_result"
    }
   ],
   "source": [
    "len(Data)"
   ]
  },
  {
   "cell_type": "code",
   "execution_count": 9,
   "metadata": {},
   "outputs": [
    {
     "data": {
      "text/html": [
       "<div>\n",
       "<style scoped>\n",
       "    .dataframe tbody tr th:only-of-type {\n",
       "        vertical-align: middle;\n",
       "    }\n",
       "\n",
       "    .dataframe tbody tr th {\n",
       "        vertical-align: top;\n",
       "    }\n",
       "\n",
       "    .dataframe thead th {\n",
       "        text-align: right;\n",
       "    }\n",
       "</style>\n",
       "<table border=\"1\" class=\"dataframe\">\n",
       "  <thead>\n",
       "    <tr style=\"text-align: right;\">\n",
       "      <th></th>\n",
       "      <th>title</th>\n",
       "      <th>price</th>\n",
       "    </tr>\n",
       "  </thead>\n",
       "  <tbody>\n",
       "    <tr>\n",
       "      <th>0</th>\n",
       "      <td>Modern Refrigeration and Air Conditioning</td>\n",
       "      <td>$45</td>\n",
       "    </tr>\n",
       "    <tr>\n",
       "      <th>1</th>\n",
       "      <td>CDL MOTORCYCL DRIVING PERMIT EXAM GURANTEE PAS...</td>\n",
       "      <td>$25</td>\n",
       "    </tr>\n",
       "    <tr>\n",
       "      <th>2</th>\n",
       "      <td>Coffee Table Book</td>\n",
       "      <td>$5</td>\n",
       "    </tr>\n",
       "    <tr>\n",
       "      <th>3</th>\n",
       "      <td>Free Kumon Sheets Math level G, H with Kumon e...</td>\n",
       "      <td>$0</td>\n",
       "    </tr>\n",
       "    <tr>\n",
       "      <th>4</th>\n",
       "      <td>mickey mantle @ roger maris     books</td>\n",
       "      <td>$15</td>\n",
       "    </tr>\n",
       "    <tr>\n",
       "      <th>5</th>\n",
       "      <td>Bat Boy book</td>\n",
       "      <td>$5</td>\n",
       "    </tr>\n",
       "  </tbody>\n",
       "</table>\n",
       "</div>"
      ],
      "text/plain": [
       "                                               title price\n",
       "0          Modern Refrigeration and Air Conditioning   $45\n",
       "1  CDL MOTORCYCL DRIVING PERMIT EXAM GURANTEE PAS...   $25\n",
       "2                                  Coffee Table Book    $5\n",
       "3  Free Kumon Sheets Math level G, H with Kumon e...    $0\n",
       "4              mickey mantle @ roger maris     books   $15\n",
       "5                                       Bat Boy book    $5"
      ]
     },
     "execution_count": 9,
     "metadata": {},
     "output_type": "execute_result"
    }
   ],
   "source": [
    "Data.loc[0:5]"
   ]
  },
  {
   "cell_type": "code",
   "execution_count": 10,
   "metadata": {},
   "outputs": [
    {
     "data": {
      "text/plain": [
       "0            Modern Refrigeration and Air Conditioning\n",
       "1    CDL MOTORCYCL DRIVING PERMIT EXAM GURANTEE PAS...\n",
       "2                                    Coffee Table Book\n",
       "3    Free Kumon Sheets Math level G, H with Kumon e...\n",
       "4                mickey mantle @ roger maris     books\n",
       "5                                         Bat Boy book\n",
       "Name: title, dtype: object"
      ]
     },
     "execution_count": 10,
     "metadata": {},
     "output_type": "execute_result"
    }
   ],
   "source": [
    "Data.loc[0:5,\"title\"]"
   ]
  },
  {
   "cell_type": "code",
   "execution_count": 21,
   "metadata": {},
   "outputs": [],
   "source": [
    "## search books by title (case sensitive)\n",
    "def search_by_title():\n",
    "    TEST = input(\"Search name of the title: \")\n",
    "    title = np.column_stack([Data[col].str.contains(TEST) for col in ['title']])\n",
    "    return print(Data.loc[title.any(axis=1)])"
   ]
  },
  {
   "cell_type": "code",
   "execution_count": 23,
   "metadata": {},
   "outputs": [],
   "source": [
    "def search_by_title():\n",
    "    TEST = input(\"Search name of the title: \")\n",
    "    title = np.column_stack([Data[col].str.contains(TEST.lower()) for col in ['title']])\n",
    "    return print(Data.loc[title.any(axis=1)])"
   ]
  },
  {
   "cell_type": "code",
   "execution_count": 25,
   "metadata": {},
   "outputs": [
    {
     "name": "stdout",
     "output_type": "stream",
     "text": [
      "Search name of the title: Modern\n",
      "Empty DataFrame\n",
      "Columns: [title, price]\n",
      "Index: []\n"
     ]
    }
   ],
   "source": [
    "search_by_title()"
   ]
  },
  {
   "cell_type": "code",
   "execution_count": null,
   "metadata": {},
   "outputs": [],
   "source": [
    "TEST = input(\"Search name of the title: \")\n",
    "title = Data.loc[Data['title']= str.contains(TEST)]\n",
    "print(title)"
   ]
  },
  {
   "cell_type": "code",
   "execution_count": 17,
   "metadata": {},
   "outputs": [
    {
     "name": "stdout",
     "output_type": "stream",
     "text": [
      "Search name of the title: mm\n",
      "                                                 title price\n",
      "80    English Composition and Grammar: Complete Course  $100\n",
      "219  The Mammoth Book of Historical and More Whodun...    $9\n",
      "328  Effective Organisational Communication: Perspe...   $30\n",
      "334  Modernist Communities across Cultures and Medi...   $50\n",
      "422                      Programming and finance books   $40\n",
      "636  Assorted Great Programming/Web Development Boo...    $5\n",
      "659             Computer and Programming Related Books    $0\n",
      "735                     Computer Dummie Books for Sale    $0\n",
      "746  Mens european fashion magazine library for sal...  $360\n",
      "752   L'uomo Vogue Homme mens fashion magazine Library  $480\n",
      "763  Robert's Rules for Dummies - Parliamentary Pro...    $5\n",
      "822   English Composition and Grammar: Complete Course  $100\n",
      "934   English Composition and Grammar: Complete Course  $100\n"
     ]
    }
   ],
   "source": [
    "search_by_title()"
   ]
  },
  {
   "cell_type": "code",
   "execution_count": 203,
   "metadata": {},
   "outputs": [],
   "source": [
    "## search books by price (with $ sign)\n",
    "def search_by_price():\n",
    "    TEST = input(\"Search price of the book: \")\n",
    "    price = Data.loc[Data['price']==TEST]\n",
    "    return price"
   ]
  },
  {
   "cell_type": "code",
   "execution_count": 204,
   "metadata": {},
   "outputs": [
    {
     "name": "stdout",
     "output_type": "stream",
     "text": [
      "Search price of the book: $4\n",
      "                                                 title price\n",
      "28               New-adventure romance novel On A Whim    $4\n",
      "63                        100 Things to Ponder (ebook)    $4\n",
      "216                   Quick and Easy Investing E-Guide    $4\n",
      "217                   Quick and Easy Investing E-Guide    $4\n",
      "219                   Quick and Easy Investing E-Guide    $4\n",
      "270                    GHOST STORIES of NEW YORK STATE    $4\n",
      "302                         Art History Books for Sale    $4\n",
      "474                       The Tibetan Book of the Dead    $4\n",
      "563  John Kovalic's Dork Tower: Living La Vida Dork...    $4\n",
      "761                            Broadway Show Playbills    $4\n"
     ]
    }
   ],
   "source": [
    "print(search_by_price())"
   ]
  },
  {
   "cell_type": "code",
   "execution_count": null,
   "metadata": {},
   "outputs": [],
   "source": []
  },
  {
   "cell_type": "code",
   "execution_count": null,
   "metadata": {},
   "outputs": [],
   "source": []
  },
  {
   "cell_type": "code",
   "execution_count": null,
   "metadata": {},
   "outputs": [],
   "source": []
  },
  {
   "cell_type": "code",
   "execution_count": null,
   "metadata": {},
   "outputs": [],
   "source": []
  },
  {
   "cell_type": "code",
   "execution_count": null,
   "metadata": {},
   "outputs": [],
   "source": []
  },
  {
   "cell_type": "code",
   "execution_count": 15,
   "metadata": {},
   "outputs": [],
   "source": [
    "## pagination\n",
    "from tempfile import NamedTemporaryFile\n",
    "import webbrowser\n",
    "from sklearn.datasets import load_iris\n",
    "\n",
    "\n",
    "def df_html(df):\n",
    "    \"\"\"HTML table with pagination and other goodies\"\"\"\n",
    "    df_html = df.to_html()\n",
    "    return base_html % df_html"
   ]
  },
  {
   "cell_type": "code",
   "execution_count": 16,
   "metadata": {},
   "outputs": [],
   "source": [
    "def df_window(df):\n",
    "    \"\"\"Open dataframe in browser window using a temporary file\"\"\"\n",
    "    with NamedTemporaryFile(delete=False, suffix='.html') as f:\n",
    "        f.write(df_html(df))\n",
    "    webbrowser.open(f.name)"
   ]
  },
  {
   "cell_type": "code",
   "execution_count": 22,
   "metadata": {},
   "outputs": [
    {
     "ename": "AttributeError",
     "evalue": "'DataFrame' object has no attribute 'feature_names'",
     "output_type": "error",
     "traceback": [
      "\u001b[0;31m---------------------------------------------------------------------------\u001b[0m",
      "\u001b[0;31mAttributeError\u001b[0m                            Traceback (most recent call last)",
      "\u001b[0;32m<ipython-input-22-cc37865b98ff>\u001b[0m in \u001b[0;36m<module>\u001b[0;34m\u001b[0m\n\u001b[0;32m----> 1\u001b[0;31m \u001b[0mdf\u001b[0m \u001b[0;34m=\u001b[0m \u001b[0mpd\u001b[0m\u001b[0;34m.\u001b[0m\u001b[0mDataFrame\u001b[0m\u001b[0;34m(\u001b[0m\u001b[0mData\u001b[0m\u001b[0;34m,\u001b[0m \u001b[0mcolumns\u001b[0m\u001b[0;34m=\u001b[0m\u001b[0mData\u001b[0m\u001b[0;34m.\u001b[0m\u001b[0mfeature_names\u001b[0m\u001b[0;34m)\u001b[0m\u001b[0;34m\u001b[0m\u001b[0;34m\u001b[0m\u001b[0m\n\u001b[0m\u001b[1;32m      2\u001b[0m \u001b[0;34m\u001b[0m\u001b[0m\n\u001b[1;32m      3\u001b[0m \u001b[0mdf_window\u001b[0m\u001b[0;34m(\u001b[0m\u001b[0mdf\u001b[0m\u001b[0;34m)\u001b[0m\u001b[0;34m\u001b[0m\u001b[0;34m\u001b[0m\u001b[0m\n",
      "\u001b[0;32m/anaconda3/lib/python3.7/site-packages/pandas/core/generic.py\u001b[0m in \u001b[0;36m__getattr__\u001b[0;34m(self, name)\u001b[0m\n\u001b[1;32m   4374\u001b[0m             \u001b[0;32mif\u001b[0m \u001b[0mself\u001b[0m\u001b[0;34m.\u001b[0m\u001b[0m_info_axis\u001b[0m\u001b[0;34m.\u001b[0m\u001b[0m_can_hold_identifiers_and_holds_name\u001b[0m\u001b[0;34m(\u001b[0m\u001b[0mname\u001b[0m\u001b[0;34m)\u001b[0m\u001b[0;34m:\u001b[0m\u001b[0;34m\u001b[0m\u001b[0;34m\u001b[0m\u001b[0m\n\u001b[1;32m   4375\u001b[0m                 \u001b[0;32mreturn\u001b[0m \u001b[0mself\u001b[0m\u001b[0;34m[\u001b[0m\u001b[0mname\u001b[0m\u001b[0;34m]\u001b[0m\u001b[0;34m\u001b[0m\u001b[0;34m\u001b[0m\u001b[0m\n\u001b[0;32m-> 4376\u001b[0;31m             \u001b[0;32mreturn\u001b[0m \u001b[0mobject\u001b[0m\u001b[0;34m.\u001b[0m\u001b[0m__getattribute__\u001b[0m\u001b[0;34m(\u001b[0m\u001b[0mself\u001b[0m\u001b[0;34m,\u001b[0m \u001b[0mname\u001b[0m\u001b[0;34m)\u001b[0m\u001b[0;34m\u001b[0m\u001b[0;34m\u001b[0m\u001b[0m\n\u001b[0m\u001b[1;32m   4377\u001b[0m \u001b[0;34m\u001b[0m\u001b[0m\n\u001b[1;32m   4378\u001b[0m     \u001b[0;32mdef\u001b[0m \u001b[0m__setattr__\u001b[0m\u001b[0;34m(\u001b[0m\u001b[0mself\u001b[0m\u001b[0;34m,\u001b[0m \u001b[0mname\u001b[0m\u001b[0;34m,\u001b[0m \u001b[0mvalue\u001b[0m\u001b[0;34m)\u001b[0m\u001b[0;34m:\u001b[0m\u001b[0;34m\u001b[0m\u001b[0;34m\u001b[0m\u001b[0m\n",
      "\u001b[0;31mAttributeError\u001b[0m: 'DataFrame' object has no attribute 'feature_names'"
     ]
    }
   ],
   "source": [
    "df = pd.DataFrame(Data, columns=Data.feature_names)\n",
    "\n",
    "df_window(df)"
   ]
  },
  {
   "cell_type": "code",
   "execution_count": null,
   "metadata": {},
   "outputs": [],
   "source": [
    "## pagination\n",
    "import dash\n",
    "from dash.dependencies import Input, Output\n",
    "import dash_table\n",
    "import dash_html_components as html\n",
    "import dash_core_components as dcc\n",
    "\n",
    "\n",
    "\n",
    "Data[' index'] = range(1, len(Data) + 1)\n",
    "app = dash.Dash(__name__)\n",
    "PAGE_SIZE = 15\n",
    "\n",
    "app.layout = html.Div([\n",
    "    html.Div('Data table pagination test'),\n",
    "    dcc.Dropdown(\n",
    "        id='select_page_size',\n",
    "        options=[{'label': '5', 'value': 5}, {'label': '10', 'value': 10}, {'label': '15', 'value': 15}],\n",
    "        value=5\n",
    "    ),\n",
    "    html.Div(dash_table.DataTable(\n",
    "        id='datatable-paging',\n",
    "        columns=[{\"name\": i, \"id\": i} for i in Data.columns],\n",
    "        data=Data.to_dict(\"rows\"),\n",
    "        pagination_settings={\n",
    "            'current_page': 0,\n",
    "            'page_size': PAGE_SIZE\n",
    "        },\n",
    "    ))\n",
    "])\n",
    "\n",
    "@app.callback(\n",
    "    Output('datatable-paging', 'pagination_settings'),\n",
    "    [Input('select_page_size', 'value')])\n",
    "def update_graph(page_size):\n",
    "    return {\n",
    "        'current_page': 0,\n",
    "        'page_size': page_size\n",
    "    }\n",
    "\n",
    "if __name__ == '__main__':\n",
    "    app.run_server(debug=True)"
   ]
  }
 ],
 "metadata": {
  "kernelspec": {
   "display_name": "Python 3",
   "language": "python",
   "name": "python3"
  },
  "language_info": {
   "codemirror_mode": {
    "name": "ipython",
    "version": 3
   },
   "file_extension": ".py",
   "mimetype": "text/x-python",
   "name": "python",
   "nbconvert_exporter": "python",
   "pygments_lexer": "ipython3",
   "version": "3.7.1"
  }
 },
 "nbformat": 4,
 "nbformat_minor": 2
}
